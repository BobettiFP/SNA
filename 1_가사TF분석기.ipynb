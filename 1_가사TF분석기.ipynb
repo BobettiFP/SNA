{
 "cells": [
  {
   "cell_type": "code",
   "execution_count": 1,
   "metadata": {},
   "outputs": [],
   "source": [
    "import os\n",
    "os.getcwd()\n",
    "\n",
    "folder_name = ''\n",
    "abs_dir = os.path.join(os.getcwd(), folder_name)"
   ]
  },
  {
   "cell_type": "code",
   "execution_count": 3,
   "metadata": {},
   "outputs": [],
   "source": [
    "file_names = os.listdir(abs_dir)\n",
    "lyrics = []\n",
    "\n",
    "for lyric in file_names:\n",
    "    if lyric.endswith(\"txt\"):\n",
    "        lyrics.append(lyric)"
   ]
  },
  {
   "cell_type": "code",
   "execution_count": 4,
   "metadata": {},
   "outputs": [
    {
     "data": {
      "text/plain": [
       "['작사_...사랑했잖아....txt',\n",
       " '작사_All For You.txt',\n",
       " '작사_Hello.txt',\n",
       " '작사_I (Feat. 버벌진트).txt',\n",
       " '작사_Love Blossom (러브블러썸).txt',\n",
       " '작사_Madeleine Love.txt',\n",
       " '작사_One Love.txt',\n",
       " '작사_가시.txt',\n",
       " '작사_감사.txt',\n",
       " '작사_거리에서.txt',\n",
       " '작사_광화문에서 (At Gwanghwamun).txt',\n",
       " '작사_그 남잔 말야.txt',\n",
       " '작사_그녀를 사랑해줘요.txt',\n",
       " '작사_그대가 분다.txt',\n",
       " '작사_금요일에 만나요 (Feat. 장이정 Of HISTORY).txt',\n",
       " '작사_기다릴게.txt',\n",
       " '작사_기억의 습작.txt',\n",
       " '작사_끝사랑.txt',\n",
       " '작사_나를 사랑했던 사람아.txt',\n",
       " '작사_너무 보고싶어.txt',\n",
       " '작사_너의 모든 순간 (Original).txt',\n",
       " '작사_너의 의미 (Feat. 김창완).txt',\n",
       " '작사_다시 사랑한다 말할까.txt',\n",
       " '작사_또 다시 사랑.txt',\n",
       " '작사_못해 (Feat. 美).txt',\n",
       " '작사_묘해, 너와.txt',\n",
       " '작사_무릎.txt',\n",
       " '작사_바라보기.txt',\n",
       " '작사_바람이 불었으면 좋겠어.txt',\n",
       " '작사_봄 사랑 벚꽃 말고.txt',\n",
       " '작사_비가 오는 날엔.txt',\n",
       " '작사_사랑안해.txt',\n",
       " '작사_사랑한 후에.txt',\n",
       " '작사_술 한잔 해요.txt',\n",
       " '작사_아로하.txt',\n",
       " '작사_오르막길 (Feat. 정인).txt',\n",
       " '작사_우연히 봄.txt',\n",
       " '작사_이 소설의 끝을 다시 써보려 해.txt',\n",
       " '작사_이럴거면 그러지말지 (Feat. Young K).txt',\n",
       " '작사_잊지말아요.txt',\n",
       " '작사_잊혀지다 (Feat. 양다일).txt',\n",
       " '작사_잠시만 안녕 (Original).txt',\n",
       " '작사_저녁 하늘.txt',\n",
       " '작사_추억은 사랑을 닮아.txt',\n",
       " '작사_크리스마스니까.txt',\n",
       " '작사_푸르던.txt',\n",
       " '작사_행복하지 말아요.txt',\n",
       " '작사_홀로 (Feat. 김나영).txt']"
      ]
     },
     "execution_count": 4,
     "metadata": {},
     "output_type": "execute_result"
    }
   ],
   "source": [
    "lyrics"
   ]
  },
  {
   "cell_type": "code",
   "execution_count": 5,
   "metadata": {},
   "outputs": [],
   "source": [
    "import pandas as pd\n",
    "import matplotlib.font_manager as fm\n",
    "import matplotlib.pyplot as plt\n",
    "from future.utils import iteritems\n",
    "from collections import Counter\n",
    "from sklearn.manifold import TSNE\n",
    "from sklearn.feature_extraction.text import TfidfVectorizer\n",
    "from sklearn.feature_extraction.text import CountVectorizer"
   ]
  },
  {
   "cell_type": "code",
   "execution_count": 16,
   "metadata": {},
   "outputs": [],
   "source": [
    "import csv\n",
    "def single_lyrics_separator(file):\n",
    "    from konlpy.tag import Twitter\n",
    "\n",
    "    twitter = Twitter()\n",
    "    with open(file, \"r\", encoding = \"cp949\") as f:\n",
    "#     print(f.readlines())\n",
    "        contents = []\n",
    "        \n",
    "        reader = csv.reader(f, delimiter = '\\t')\n",
    "        for row in f:\n",
    "            row = row.replace(\"\\n\",\"\")\n",
    "            contents.append(row)\n",
    "#     print(contents)\n",
    "        tagged_lyrics = []\n",
    "        for i in contents:\n",
    "            tagged_lyric = twitter.pos(i)\n",
    "#         print(tagged_lyric)\n",
    "#         tagged_lyrics.append(tagged_lyric)\n",
    "#     print(tagged_lyrics)\n",
    "            for pos in tagged_lyric:\n",
    "#                 print(pos)\n",
    "                tagged_lyrics.append(pos)\n",
    "\n",
    "    noun_list, verb_list, adj_list = [],[],[]\n",
    "    for i in range(len(tagged_lyrics)):\n",
    "        if tagged_lyrics[i][1]=='Noun':\n",
    "            noun_list.append(tagged_lyrics[i][0])\n",
    "        elif tagged_lyrics[i][1]=='Verb':\n",
    "            verb_list.append(tagged_lyrics[i][0])\n",
    "        elif tagged_lyrics[i][1]=='Adjective':\n",
    "            adj_list.append(tagged_lyrics[i][0])\n",
    "            \n",
    "    return(\"noun:\\n\",noun_list, \"verb:\\n\",verb_list, \"adj:\\n\",adj_list)"
   ]
  },
  {
   "cell_type": "code",
   "execution_count": 17,
   "metadata": {},
   "outputs": [],
   "source": [
    "def lyrics_separator(file):\n",
    "    single = single_lyrics_separator(file)\n",
    "    terms = {}\n",
    "    for i in [1,3,5]:\n",
    "        terms.update(Counter(single[i]))\n",
    "    return terms"
   ]
  },
  {
   "cell_type": "code",
   "execution_count": 18,
   "metadata": {},
   "outputs": [],
   "source": [
    "def send_tf_to_csv(file, file_name):\n",
    "    with open(\"TF\"+file_name+\".csv\",'w') as f:\n",
    "        w = csv.writer(f)\n",
    "        w.writerow(file.keys())\n",
    "        w.writerow(file.values())\n",
    "    print(file_name, \" saved\")"
   ]
  },
  {
   "cell_type": "code",
   "execution_count": 19,
   "metadata": {},
   "outputs": [
    {
     "name": "stdout",
     "output_type": "stream",
     "text": [
      "작사_...사랑했잖아....txt  saved\n",
      "작사_All For You.txt  saved\n",
      "작사_Hello.txt  saved\n",
      "작사_I (Feat. 버벌진트).txt  saved\n",
      "작사_Love Blossom (러브블러썸).txt  saved\n",
      "작사_Madeleine Love.txt  saved\n",
      "작사_One Love.txt  saved\n",
      "작사_가시.txt  saved\n",
      "작사_감사.txt  saved\n",
      "작사_거리에서.txt  saved\n",
      "작사_광화문에서 (At Gwanghwamun).txt  saved\n",
      "작사_그 남잔 말야.txt  saved\n",
      "작사_그녀를 사랑해줘요.txt  saved\n",
      "작사_그대가 분다.txt  saved\n",
      "작사_금요일에 만나요 (Feat. 장이정 Of HISTORY).txt  saved\n",
      "작사_기다릴게.txt  saved\n",
      "작사_기억의 습작.txt  saved\n",
      "작사_끝사랑.txt  saved\n",
      "작사_나를 사랑했던 사람아.txt  saved\n",
      "작사_너무 보고싶어.txt  saved\n",
      "작사_너의 모든 순간 (Original).txt  saved\n",
      "작사_너의 의미 (Feat. 김창완).txt  saved\n",
      "작사_다시 사랑한다 말할까.txt  saved\n",
      "작사_또 다시 사랑.txt  saved\n",
      "작사_못해 (Feat. 美).txt  saved\n",
      "작사_묘해, 너와.txt  saved\n",
      "작사_무릎.txt  saved\n",
      "작사_바라보기.txt  saved\n",
      "작사_바람이 불었으면 좋겠어.txt  saved\n",
      "작사_봄 사랑 벚꽃 말고.txt  saved\n",
      "작사_비가 오는 날엔.txt  saved\n",
      "작사_사랑안해.txt  saved\n",
      "작사_사랑한 후에.txt  saved\n",
      "작사_술 한잔 해요.txt  saved\n",
      "작사_아로하.txt  saved\n",
      "작사_오르막길 (Feat. 정인).txt  saved\n",
      "작사_우연히 봄.txt  saved\n",
      "작사_이 소설의 끝을 다시 써보려 해.txt  saved\n",
      "작사_이럴거면 그러지말지 (Feat. Young K).txt  saved\n",
      "작사_잊지말아요.txt  saved\n",
      "작사_잊혀지다 (Feat. 양다일).txt  saved\n",
      "작사_잠시만 안녕 (Original).txt  saved\n",
      "작사_저녁 하늘.txt  saved\n",
      "작사_추억은 사랑을 닮아.txt  saved\n",
      "작사_크리스마스니까.txt  saved\n",
      "작사_푸르던.txt  saved\n",
      "작사_행복하지 말아요.txt  saved\n",
      "작사_홀로 (Feat. 김나영).txt  saved\n"
     ]
    }
   ],
   "source": [
    "for i in lyrics:\n",
    "    send_tf_to_csv(lyrics_separator(i),i)"
   ]
  },
  {
   "cell_type": "code",
   "execution_count": 20,
   "metadata": {},
   "outputs": [
    {
     "name": "stdout",
     "output_type": "stream",
     "text": [
      "{'린': 1, '김세진': 2}\n",
      "{'정진': 1, '환': 1, '김': 1, '범': 1, '김두현': 1}\n",
      "{'최규성': 3}\n",
      "{'태연': 1, '버벌진트': 1}\n",
      "{'김이나': 1, '민': 1, '연재': 1, '김도훈': 2, '이상호': 2}\n",
      "{'구름': 3, '달총': 2}\n",
      "{'이수': 2, '엠씨더맥스': 2}\n",
      "{}\n",
      "{'김동률': 3}\n",
      "{'윤종신': 2, '이근호': 1}\n",
      "{}\n",
      "{'감성': 3, '미친': 3}\n",
      "{'최갑': 1, '나': 1, '원주': 1}\n",
      "{'최성일': 3, '민': 1, '연재': 1, '이세환': 1}\n",
      "{'아이유': 2, '이종민': 1}\n",
      "{'관련': 1, '비디오': 1, '하동균': 1, '이전': 1, '다음': 1, '기다릴게': 1, '좋아요': 1}\n",
      "{'김동률': 3}\n",
      "{'윤사': 1, '윤일상': 1}\n",
      "{'최규성': 2}\n",
      "{'양말': 3, '빨간': 3}\n",
      "{'심현보': 1, '성시경': 1, '안준영': 1}\n",
      "{'김': 1, '한영': 1, '김창완': 1, '태영': 1}\n",
      "{'김동률': 3}\n",
      "{'임창정': 2, '멧돼지': 1}\n",
      "{'민': 1, '연재': 1, '윤민수': 1, '바이브': 1, '김보민': 1}\n",
      "{'심현보': 2, '박민서': 1}\n",
      "{'아이유': 2, '이종훈': 1}\n",
      "{'감성': 1, '소녀': 1, '이웃집': 1, '총각': 1, '민혁': 2}\n",
      "{'이현승': 3, '길구봉구': 2}\n",
      "{'아이유': 1, '이종훈': 2, '이채': 2, '규': 2}\n",
      "{'최규성': 3, '용준형': 1}\n",
      "{'차': 1, '은택': 1, '박': 1, '태': 1, '박성준': 1}\n",
      "{'강은경': 1, '최갑': 1, '황세준': 1, '김도훈': 1, '이현승': 1}\n",
      "{'원태연': 1, '최': 1, '은하': 1, '이주호': 1}\n",
      "{'김태훈': 1, '위': 2, '종수': 2}\n",
      "{'윤종신': 2, '이근호': 1, '조정치': 1}\n",
      "{'최재우': 1, '로꼬': 1, '똘': 2, '아이': 2, '박': 2, '피터팬': 1, '집애': 2, '미친기': 2}\n",
      "{'마스': 2, '터키': 2}\n",
      "{'심은지': 3, '백아연': 2}\n",
      "{'김도훈': 2, '최갑': 1, '이현승': 1}\n",
      "{'정키': 3, '양': 1, '일': 1}\n",
      "{'채정은': 1}\n",
      "{'김이나': 1, '박': 1, '태': 1, '옥정': 1, '용': 1}\n",
      "{'박효신': 2, '김태윤': 1, '황성제': 2}\n",
      "{'서정진': 3, '김두현': 3}\n",
      "{'아이유': 2, '휘': 1}\n",
      "{'양재선': 1, '김승현': 1}\n",
      "{'정키': 2, '김나영': 1, '임세준': 1}\n"
     ]
    },
    {
     "ename": "TypeError",
     "evalue": "'function' object is not subscriptable",
     "output_type": "error",
     "traceback": [
      "\u001b[1;31m---------------------------------------------------------------------------\u001b[0m",
      "\u001b[1;31mTypeError\u001b[0m                                 Traceback (most recent call last)",
      "\u001b[1;32m<ipython-input-20-d7725e157f38>\u001b[0m in \u001b[0;36m<module>\u001b[1;34m\u001b[0m\n\u001b[0;32m      1\u001b[0m \u001b[1;32mfor\u001b[0m \u001b[0mi\u001b[0m \u001b[1;32min\u001b[0m \u001b[0mlyrics\u001b[0m\u001b[1;33m:\u001b[0m\u001b[1;33m\u001b[0m\u001b[1;33m\u001b[0m\u001b[0m\n\u001b[0;32m      2\u001b[0m     \u001b[0mprint\u001b[0m\u001b[1;33m(\u001b[0m\u001b[0mlyrics_separator\u001b[0m\u001b[1;33m(\u001b[0m\u001b[0mi\u001b[0m\u001b[1;33m)\u001b[0m\u001b[1;33m)\u001b[0m\u001b[1;33m\u001b[0m\u001b[1;33m\u001b[0m\u001b[0m\n\u001b[1;32m----> 3\u001b[1;33m \u001b[0mlyrics_separator\u001b[0m\u001b[1;33m[\u001b[0m\u001b[1;36m0\u001b[0m\u001b[1;33m]\u001b[0m\u001b[1;33m\u001b[0m\u001b[1;33m\u001b[0m\u001b[0m\n\u001b[0m\u001b[0;32m      4\u001b[0m \u001b[1;31m# for i in range(len(lyrics)):\u001b[0m\u001b[1;33m\u001b[0m\u001b[1;33m\u001b[0m\u001b[1;33m\u001b[0m\u001b[0m\n\u001b[0;32m      5\u001b[0m \u001b[1;31m#     send_tf_to_csv(, file_name)\u001b[0m\u001b[1;33m\u001b[0m\u001b[1;33m\u001b[0m\u001b[1;33m\u001b[0m\u001b[0m\n",
      "\u001b[1;31mTypeError\u001b[0m: 'function' object is not subscriptable"
     ]
    }
   ],
   "source": [
    "for i in lyrics:\n",
    "    print(lyrics_separator(i))\n",
    "\n",
    "# for i in range(len(lyrics)):\n",
    "#     send_tf_to_csv(, file_name)"
   ]
  },
  {
   "cell_type": "code",
   "execution_count": null,
   "metadata": {},
   "outputs": [],
   "source": [
    "# single = single_lyrics_separator(\"잠시만안녕.txt\")"
   ]
  },
  {
   "cell_type": "code",
   "execution_count": null,
   "metadata": {},
   "outputs": [],
   "source": [
    "# terms = {}\n",
    "# for i in [1,3,5]:\n",
    "#     terms.update(Counter(single[i]))"
   ]
  },
  {
   "cell_type": "code",
   "execution_count": null,
   "metadata": {},
   "outputs": [],
   "source": [
    "# for i in lyrics:\n",
    "#     separated = single_lyrics_separator(i)\n",
    "    \n",
    "#     terms = {}\n",
    "#     for i in [1,3,5]:\n",
    "#         terms.update(Counter(separated[i]))\n",
    "# #     with open(\"잠시만안녕\"+\".csv\",'w') as f:\n",
    "# #         w = csv.writer(f)\n",
    "# #         w.writerow(file.keys())\n",
    "# #         w.writerow(file.values())"
   ]
  },
  {
   "cell_type": "code",
   "execution_count": null,
   "metadata": {},
   "outputs": [],
   "source": [
    "# terms"
   ]
  },
  {
   "cell_type": "code",
   "execution_count": null,
   "metadata": {},
   "outputs": [],
   "source": []
  },
  {
   "cell_type": "code",
   "execution_count": null,
   "metadata": {},
   "outputs": [],
   "source": []
  }
 ],
 "metadata": {
  "kernelspec": {
   "display_name": "Python 3",
   "language": "python",
   "name": "python3"
  },
  "language_info": {
   "codemirror_mode": {
    "name": "ipython",
    "version": 3
   },
   "file_extension": ".py",
   "mimetype": "text/x-python",
   "name": "python",
   "nbconvert_exporter": "python",
   "pygments_lexer": "ipython3",
   "version": "3.8.3"
  }
 },
 "nbformat": 4,
 "nbformat_minor": 4
}
